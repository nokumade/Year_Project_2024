{
 "cells": [
  {
   "cell_type": "markdown",
   "metadata": {},
   "source": [
    "# 0. MAIN: Synchronization"
   ]
  },
  {
   "cell_type": "markdown",
   "metadata": {},
   "source": [
    "## 0.0. Necessary"
   ]
  },
  {
   "cell_type": "markdown",
   "metadata": {},
   "source": [
    "### 0.0.1. Imports"
   ]
  },
  {
   "cell_type": "code",
   "execution_count": 51,
   "metadata": {},
   "outputs": [],
   "source": [
    "import numpy as np\n",
    "import matplotlib.pyplot as plt\n",
    "\n",
    "from moviepy.editor import VideoFileClip\n",
    "\n",
    "import speech_recognition as sr\n",
    "import os\n",
    "from pydub import AudioSegment\n",
    "from pydub.silence import detect_nonsilent\n",
    "from tqdm.notebook import tqdm\n",
    "\n",
    "\n",
    "import face_recognition\n",
    "\n",
    "import cv2"
   ]
  },
  {
   "cell_type": "markdown",
   "metadata": {},
   "source": [
    "### 0.0.2. Functions"
   ]
  },
  {
   "cell_type": "markdown",
   "metadata": {},
   "source": [
    "#### 0.0.2.1. Audio split"
   ]
  },
  {
   "cell_type": "code",
   "execution_count": 2,
   "metadata": {},
   "outputs": [],
   "source": [
    "def split_on_silence(audio_segment, min_silence_len=1000, silence_thresh=-16, keep_silence=100,\n",
    "                     seek_step=1, with_timing=False, verbose=False):\n",
    "    not_silence_ranges = detect_nonsilent(audio_segment, min_silence_len, silence_thresh, seek_step)\n",
    "    chunks = []\n",
    "    if verbose:\n",
    "        _range = tqdm(not_silence_ranges)\n",
    "    else:\n",
    "        _range = not_silence_ranges\n",
    "    if with_timing:\n",
    "        for start_i, end_i in _range:\n",
    "            start_i = max(0, start_i - keep_silence)\n",
    "            end_i += keep_silence\n",
    "            chunks.append((start_i, audio_segment[start_i:end_i]))\n",
    "    else:\n",
    "        for start_i, end_i in _range:\n",
    "            start_i = max(0, start_i - keep_silence)\n",
    "            end_i += keep_silence\n",
    "            chunks.append(audio_segment[start_i:end_i])\n",
    "\n",
    "    return chunks\n",
    "\n",
    "def split(path, **kwargs):\n",
    "    \"\"\"Split audio into chunks and apply speech recognition\"\"\"\n",
    "    # Open audio file with pydub\n",
    "    sound = AudioSegment.from_wav(path)\n",
    "    # Split audio where silence is 700ms or greater and get chunks\n",
    "    chunks = split_on_silence(sound, \n",
    "                              min_silence_len=700, \n",
    "                              silence_thresh=sound.dBFS-14, \n",
    "                              keep_silence=700, **kwargs)\n",
    "    return chunks"
   ]
  },
  {
   "cell_type": "markdown",
   "metadata": {},
   "source": [
    "#### 0.0.2.2. Speech recognition"
   ]
  },
  {
   "cell_type": "code",
   "execution_count": 19,
   "metadata": {},
   "outputs": [],
   "source": [
    "def save_chunk(chunk, path_template):\n",
    "    chunk_filename = path_template.format(chunk[0])\n",
    "    try:\n",
    "        chunk[1].export(chunk_filename, format=\"wav\")\n",
    "        return chunk_filename\n",
    "    except Exception as e:\n",
    "        print(e)\n",
    "        return None"
   ]
  },
  {
   "cell_type": "code",
   "execution_count": 21,
   "metadata": {},
   "outputs": [],
   "source": [
    "def transcribe_chunk(recognizer, chunk_fname, language):\n",
    "    with sr.AudioFile(chunk_fname) as source:\n",
    "        audio_listened = recognizer.record(source)\n",
    "        # Convert to text\n",
    "        try:\n",
    "            text = recognizer.recognize_google(audio_listened, language=language)\n",
    "        except sr.UnknownValueError as e:\n",
    "            return str(e), None\n",
    "        else:\n",
    "            return \"OK\", text.lower()"
   ]
  },
  {
   "cell_type": "code",
   "execution_count": 10,
   "metadata": {},
   "outputs": [],
   "source": [
    "# def transcribe_large_audio(recognizer, chunks, language):\n",
    "#     # Create folder to store audio chunks\n",
    "#     folder_name = \"audio-chunks\"\n",
    "#     if not os.path.isdir(folder_name):\n",
    "#         os.mkdir(folder_name)\n",
    "    \n",
    "#     whole_text = \"\"\n",
    "#     # Process each chunk\n",
    "#     for i, audio_chunk in tqdm(enumerate(chunks, start=1)):\n",
    "#         # Export chunk and save in folder\n",
    "#         chunk_filename = os.path.join(folder_name, f\"chunk{i}.wav\")\n",
    "#         audio_chunk.export(chunk_filename, format=\"wav\")\n",
    "#         # Recognize chunk\n",
    "#         with sr.AudioFile(chunk_filename) as source:\n",
    "#             audio_listened = recognizer.record(source)\n",
    "#             # Convert to text\n",
    "#             try:\n",
    "#                 text = recognizer.recognize_google(audio_listened, language=language)\n",
    "#             except sr.UnknownValueError as e:\n",
    "#                 print(\"Error:\", str(e))\n",
    "#             else:\n",
    "#                 text = f\"{text.capitalize()}. \"\n",
    "#                 print(chunk_filename, \":\", text)\n",
    "#                 whole_text += text\n",
    "#     # Return text for all chunks\n",
    "#     return whole_text"
   ]
  },
  {
   "cell_type": "markdown",
   "metadata": {},
   "source": [
    "#### 0.0.2.3. Recognizing fact of speaking and a speaker"
   ]
  },
  {
   "cell_type": "code",
   "execution_count": 155,
   "metadata": {},
   "outputs": [],
   "source": [
    "def sum_tri_volume(pts):\n",
    "    cent = pts.mean(axis=0)\n",
    "    \n",
    "    s = 0\n",
    "    for i in range(len(pts)):\n",
    "        a = np.linalg.norm(pts[i] - pts[i - 1])\n",
    "        b = np.linalg.norm(pts[i] - cent)\n",
    "        c = np.linalg.norm(pts[i - 1] - cent)\n",
    "                \n",
    "        p = (a + b + c) / 2\n",
    "        s += np.sqrt(p * (p - a) * (p - b) * (p - c))\n",
    "    \n",
    "    return s\n",
    "\n",
    "def volume(pts, method=\"sum_tri\"):\n",
    "    return eval(method + \"_volume\")(pts)"
   ]
  },
  {
   "cell_type": "code",
   "execution_count": 156,
   "metadata": {},
   "outputs": [],
   "source": [
    "def find_speaking_mouths(frame):\n",
    "    face_landmarks = face_recognition.face_landmarks(frame)\n",
    "    speaking_mouths = []\n",
    "    \n",
    "#     print(face_landmarks)\n",
    "    \n",
    "    for pointset in face_landmarks:\n",
    "        p1=pointset['top_lip']\n",
    "        p2=pointset['bottom_lip']\n",
    "        \n",
    "        mouth_pts = np.array([p1[8], p1[9], p1[10], \n",
    "                               p2[8], p2[9], p2[10]])\n",
    "        mv = volume(mouth_pts)\n",
    "        \n",
    "        if mv > MOUTH_VOLUME_THRESHOLD:\n",
    "            speaking_mouths += [mouth_pts]\n",
    "            \n",
    "    return speaking_mouths"
   ]
  },
  {
   "cell_type": "code",
   "execution_count": 157,
   "metadata": {},
   "outputs": [],
   "source": [
    "def find_speaking_persons(frame):\n",
    "    speaking_mouths = find_speaking_mouths(frame)\n",
    "    \n",
    "    # TODO: find faces\n",
    "    # TODO: assign faces to speaking mouths\n",
    "    \n",
    "    return speaking_mouths"
   ]
  },
  {
   "cell_type": "markdown",
   "metadata": {},
   "source": [
    "### 0.0.3. Constants"
   ]
  },
  {
   "cell_type": "code",
   "execution_count": 85,
   "metadata": {},
   "outputs": [],
   "source": [
    "fpath = \"/Users/andreyignatov/Downloads/ГРОМКИЙ_ВОПРОС.mp4\"\n",
    "audio_fpath = \".\".join(fpath.split(\".\")[:-1]) + \".wav\"\n",
    "\n",
    "LANG = \"ru-RU\"\n",
    "N_FRAMES_IN_SECOND = 44100.0\n",
    "MOUTH_VOLUME_THRESHOLD = 0"
   ]
  },
  {
   "cell_type": "markdown",
   "metadata": {},
   "source": [
    "## 0.1. Video to .wav"
   ]
  },
  {
   "cell_type": "code",
   "execution_count": 86,
   "metadata": {},
   "outputs": [
    {
     "name": "stdout",
     "output_type": "stream",
     "text": [
      "MoviePy - Writing audio in /Users/andreyignatov/Downloads/ГРОМКИЙ_ВОПРОС.wav\n"
     ]
    },
    {
     "name": "stderr",
     "output_type": "stream",
     "text": [
      "\n",
      "chunk:   0%|          | 0/35738 [00:00<?, ?it/s, now=None]\u001b[A\n",
      "chunk:   1%|          | 357/35738 [00:00<00:10, 3473.30it/s, now=None]\u001b[A\n",
      "chunk:   2%|▏         | 726/35738 [00:00<00:09, 3595.77it/s, now=None]\u001b[A\n",
      "chunk:   3%|▎         | 1104/35738 [00:00<00:09, 3673.88it/s, now=None]\u001b[A\n",
      "chunk:   4%|▍         | 1521/35738 [00:00<00:08, 3868.51it/s, now=None]\u001b[A\n",
      "chunk:   5%|▌         | 1941/35738 [00:00<00:08, 3987.32it/s, now=None]\u001b[A\n",
      "chunk:   7%|▋         | 2340/35738 [00:00<00:08, 3820.50it/s, now=None]\u001b[A\n",
      "chunk:   8%|▊         | 2724/35738 [00:00<00:09, 3647.78it/s, now=None]\u001b[A\n",
      "chunk:   9%|▊         | 3091/35738 [00:00<00:08, 3645.90it/s, now=None]\u001b[A\n",
      "chunk:  10%|▉         | 3457/35738 [00:00<00:09, 3512.74it/s, now=None]\u001b[A\n",
      "chunk:  11%|█         | 3810/35738 [00:01<00:09, 3304.43it/s, now=None]\u001b[A\n",
      "chunk:  12%|█▏        | 4144/35738 [00:01<00:10, 3150.30it/s, now=None]\u001b[A\n",
      "chunk:  12%|█▏        | 4462/35738 [00:01<00:09, 3134.33it/s, now=None]\u001b[A\n",
      "chunk:  13%|█▎        | 4777/35738 [00:01<00:09, 3136.73it/s, now=None]\u001b[A\n",
      "chunk:  14%|█▍        | 5120/35738 [00:01<00:09, 3220.68it/s, now=None]\u001b[A\n",
      "chunk:  15%|█▌        | 5454/35738 [00:01<00:09, 3254.64it/s, now=None]\u001b[A\n",
      "chunk:  16%|█▌        | 5799/35738 [00:01<00:09, 3311.69it/s, now=None]\u001b[A\n",
      "chunk:  17%|█▋        | 6131/35738 [00:01<00:09, 3277.08it/s, now=None]\u001b[A\n",
      "chunk:  18%|█▊        | 6460/35738 [00:01<00:09, 3157.45it/s, now=None]\u001b[A\n",
      "chunk:  19%|█▉        | 6783/35738 [00:02<00:09, 3138.35it/s, now=None]\u001b[A\n",
      "chunk:  20%|█▉        | 7140/35738 [00:02<00:08, 3221.47it/s, now=None]\u001b[A\n",
      "chunk:  21%|██        | 7488/35738 [00:02<00:08, 3295.27it/s, now=None]\u001b[A\n",
      "chunk:  22%|██▏       | 7819/35738 [00:02<00:08, 3181.56it/s, now=None]\u001b[A\n",
      "chunk:  23%|██▎       | 8160/35738 [00:02<00:08, 3211.02it/s, now=None]\u001b[A\n",
      "chunk:  24%|██▎       | 8482/35738 [00:02<00:08, 3196.43it/s, now=None]\u001b[A\n",
      "chunk:  25%|██▍       | 8803/35738 [00:02<00:08, 3189.46it/s, now=None]\u001b[A\n",
      "chunk:  26%|██▌       | 9129/35738 [00:02<00:08, 3176.21it/s, now=None]\u001b[A\n",
      "chunk:  26%|██▋       | 9454/35738 [00:02<00:08, 3196.40it/s, now=None]\u001b[A\n",
      "chunk:  27%|██▋       | 9784/35738 [00:02<00:08, 3226.38it/s, now=None]\u001b[A\n",
      "chunk:  28%|██▊       | 10107/35738 [00:03<00:08, 3170.72it/s, now=None]\u001b[A\n",
      "chunk:  29%|██▉       | 10455/35738 [00:03<00:07, 3228.27it/s, now=None]\u001b[A\n",
      "chunk:  30%|███       | 10779/35738 [00:03<00:07, 3212.26it/s, now=None]\u001b[A\n",
      "chunk:  31%|███       | 11118/35738 [00:03<00:07, 3217.85it/s, now=None]\u001b[A\n",
      "chunk:  32%|███▏      | 11475/35738 [00:03<00:07, 3317.03it/s, now=None]\u001b[A\n",
      "chunk:  33%|███▎      | 11807/35738 [00:03<00:07, 3181.23it/s, now=None]\u001b[A\n",
      "chunk:  34%|███▍      | 12140/35738 [00:03<00:07, 3223.11it/s, now=None]\u001b[A\n",
      "chunk:  35%|███▍      | 12495/35738 [00:03<00:07, 3279.43it/s, now=None]\u001b[A\n",
      "chunk:  36%|███▌      | 12824/35738 [00:03<00:06, 3279.62it/s, now=None]\u001b[A\n",
      "chunk:  37%|███▋      | 13167/35738 [00:03<00:06, 3323.31it/s, now=None]\u001b[A\n",
      "chunk:  38%|███▊      | 13515/35738 [00:04<00:06, 3362.64it/s, now=None]\u001b[A\n",
      "chunk:  39%|███▉      | 13872/35738 [00:04<00:06, 3367.65it/s, now=None]\u001b[A\n",
      "chunk:  40%|███▉      | 14229/35738 [00:04<00:06, 3375.51it/s, now=None]\u001b[A\n",
      "chunk:  41%|████      | 14586/35738 [00:04<00:06, 3391.71it/s, now=None]\u001b[A\n",
      "chunk:  42%|████▏     | 14939/35738 [00:04<00:06, 3430.81it/s, now=None]\u001b[A\n",
      "chunk:  43%|████▎     | 15283/35738 [00:04<00:06, 3398.31it/s, now=None]\u001b[A\n",
      "chunk:  44%|████▎     | 15623/35738 [00:04<00:06, 3336.17it/s, now=None]\u001b[A\n",
      "chunk:  45%|████▍     | 15957/35738 [00:04<00:06, 3131.37it/s, now=None]\u001b[A\n",
      "chunk:  46%|████▌     | 16284/35738 [00:04<00:06, 3170.30it/s, now=None]\u001b[A\n",
      "chunk:  47%|████▋     | 16626/35738 [00:05<00:05, 3194.49it/s, now=None]\u001b[A\n",
      "chunk:  47%|████▋     | 16947/35738 [00:05<00:05, 3190.44it/s, now=None]\u001b[A\n",
      "chunk:  48%|████▊     | 17289/35738 [00:05<00:05, 3244.82it/s, now=None]\u001b[A\n",
      "chunk:  49%|████▉     | 17646/35738 [00:05<00:05, 3338.28it/s, now=None]\u001b[A\n",
      "chunk:  50%|█████     | 17981/35738 [00:05<00:05, 3319.83it/s, now=None]\u001b[A\n",
      "chunk:  51%|█████     | 18314/35738 [00:05<00:05, 3229.84it/s, now=None]\u001b[A\n",
      "chunk:  52%|█████▏    | 18664/35738 [00:05<00:05, 3308.28it/s, now=None]\u001b[A\n",
      "chunk:  53%|█████▎    | 18996/35738 [00:05<00:05, 3310.01it/s, now=None]\u001b[A\n",
      "chunk:  54%|█████▍    | 19329/35738 [00:05<00:05, 3259.34it/s, now=None]\u001b[A\n",
      "chunk:  55%|█████▌    | 19686/35738 [00:05<00:04, 3315.49it/s, now=None]\u001b[A\n",
      "chunk:  56%|█████▌    | 20043/35738 [00:06<00:04, 3347.96it/s, now=None]\u001b[A\n",
      "chunk:  57%|█████▋    | 20400/35738 [00:06<00:04, 3405.88it/s, now=None]\u001b[A\n",
      "chunk:  58%|█████▊    | 20741/35738 [00:06<00:04, 3383.54it/s, now=None]\u001b[A\n",
      "chunk:  59%|█████▉    | 21080/35738 [00:06<00:04, 3380.78it/s, now=None]\u001b[A\n",
      "chunk:  60%|██████    | 21452/35738 [00:06<00:04, 3480.53it/s, now=None]\u001b[A\n",
      "chunk:  61%|██████    | 21801/35738 [00:06<00:04, 3443.85it/s, now=None]\u001b[A\n",
      "chunk:  62%|██████▏   | 22146/35738 [00:06<00:04, 3321.52it/s, now=None]\u001b[A\n",
      "chunk:  63%|██████▎   | 22491/35738 [00:06<00:03, 3337.05it/s, now=None]\u001b[A\n",
      "chunk:  64%|██████▍   | 22849/35738 [00:06<00:03, 3407.27it/s, now=None]\u001b[A\n",
      "chunk:  65%|██████▍   | 23209/35738 [00:06<00:03, 3462.83it/s, now=None]\u001b[A\n",
      "chunk:  66%|██████▌   | 23556/35738 [00:07<00:03, 3420.22it/s, now=None]\u001b[A\n",
      "chunk:  67%|██████▋   | 23899/35738 [00:07<00:03, 3396.77it/s, now=None]\u001b[A\n",
      "chunk:  68%|██████▊   | 24240/35738 [00:07<00:03, 3312.39it/s, now=None]\u001b[A\n",
      "chunk:  69%|██████▉   | 24582/35738 [00:07<00:03, 3336.52it/s, now=None]\u001b[A\n",
      "chunk:  70%|██████▉   | 24917/35738 [00:07<00:03, 3323.34it/s, now=None]\u001b[A\n",
      "chunk:  71%|███████   | 25255/35738 [00:07<00:03, 3339.62it/s, now=None]\u001b[A\n",
      "chunk:  72%|███████▏  | 25602/35738 [00:07<00:03, 3357.16it/s, now=None]\u001b[A\n",
      "chunk:  73%|███████▎  | 25959/35738 [00:07<00:02, 3357.35it/s, now=None]\u001b[A\n",
      "chunk:  74%|███████▎  | 26295/35738 [00:07<00:02, 3342.06it/s, now=None]\u001b[A\n",
      "chunk:  75%|███████▍  | 26652/35738 [00:08<00:02, 3408.65it/s, now=None]\u001b[A\n",
      "chunk:  76%|███████▌  | 26994/35738 [00:08<00:02, 3337.54it/s, now=None]\u001b[A\n",
      "chunk:  76%|███████▋  | 27329/35738 [00:08<00:02, 3165.00it/s, now=None]\u001b[A\n",
      "chunk:  77%|███████▋  | 27648/35738 [00:08<00:02, 3144.08it/s, now=None]\u001b[A\n",
      "chunk:  78%|███████▊  | 27964/35738 [00:08<00:02, 3146.98it/s, now=None]\u001b[A\n",
      "chunk:  79%|███████▉  | 28305/35738 [00:08<00:02, 3200.64it/s, now=None]\u001b[A\n",
      "chunk:  80%|████████  | 28701/35738 [00:08<00:02, 3421.14it/s, now=None]\u001b[A\n",
      "chunk:  81%|████████▏ | 29055/35738 [00:08<00:01, 3455.69it/s, now=None]\u001b[A\n",
      "chunk:  82%|████████▏ | 29402/35738 [00:08<00:01, 3334.58it/s, now=None]\u001b[A\n",
      "chunk:  83%|████████▎ | 29737/35738 [00:08<00:01, 3280.94it/s, now=None]\u001b[A\n",
      "chunk:  84%|████████▍ | 30067/35738 [00:09<00:01, 3153.58it/s, now=None]\u001b[A\n",
      "chunk:  85%|████████▌ | 30394/35738 [00:09<00:01, 3185.22it/s, now=None]\u001b[A\n",
      "chunk:  86%|████████▌ | 30741/35738 [00:09<00:01, 3266.50it/s, now=None]\u001b[A\n",
      "chunk:  87%|████████▋ | 31069/35738 [00:09<00:01, 3151.73it/s, now=None]\u001b[A\n",
      "chunk:  88%|████████▊ | 31386/35738 [00:09<00:01, 3066.96it/s, now=None]\u001b[A\n",
      "chunk:  89%|████████▊ | 31694/35738 [00:09<00:01, 3045.42it/s, now=None]\u001b[A\n",
      "chunk:  90%|████████▉ | 32029/35738 [00:09<00:01, 3131.75it/s, now=None]\u001b[A\n",
      "chunk:  91%|█████████ | 32385/35738 [00:09<00:01, 3202.60it/s, now=None]\u001b[A\n",
      "chunk:  92%|█████████▏| 32734/35738 [00:09<00:00, 3284.64it/s, now=None]\u001b[A\n",
      "chunk:  93%|█████████▎| 33085/35738 [00:10<00:00, 3350.30it/s, now=None]\u001b[A\n",
      "chunk:  94%|█████████▎| 33421/35738 [00:10<00:00, 3206.68it/s, now=None]\u001b[A\n",
      "chunk:  94%|█████████▍| 33744/35738 [00:10<00:00, 2981.64it/s, now=None]\u001b[A\n",
      "chunk:  95%|█████████▌| 34046/35738 [00:10<00:00, 2960.86it/s, now=None]\u001b[A\n",
      "chunk:  96%|█████████▌| 34374/35738 [00:10<00:00, 3042.59it/s, now=None]\u001b[A\n",
      "chunk:  97%|█████████▋| 34695/35738 [00:10<00:00, 3089.95it/s, now=None]\u001b[A\n",
      "chunk:  98%|█████████▊| 35006/35738 [00:10<00:00, 3094.04it/s, now=None]\u001b[A\n",
      "chunk:  99%|█████████▉| 35317/35738 [00:10<00:00, 3067.15it/s, now=None]\u001b[A\n",
      "chunk: 100%|█████████▉| 35625/35738 [00:10<00:00, 3060.25it/s, now=None]\u001b[A\n",
      "                                                                        \u001b[A"
     ]
    },
    {
     "name": "stdout",
     "output_type": "stream",
     "text": [
      "MoviePy - Done.\n"
     ]
    }
   ],
   "source": [
    "video = VideoFileClip(fpath)\n",
    "audio = video.audio\n",
    "audio.write_audiofile(audio_fpath)"
   ]
  },
  {
   "cell_type": "markdown",
   "metadata": {},
   "source": [
    "## 0.2. Splitting audio into non-silent chunks"
   ]
  },
  {
   "cell_type": "code",
   "execution_count": 5,
   "metadata": {},
   "outputs": [],
   "source": [
    "chunks = split(audio_fpath, with_timing=True)"
   ]
  },
  {
   "cell_type": "markdown",
   "metadata": {},
   "source": [
    "## 0.3. Synchronized Speech and Speaker Recognition in chunks"
   ]
  },
  {
   "cell_type": "code",
   "execution_count": 26,
   "metadata": {},
   "outputs": [],
   "source": [
    "# Create folder to store audio chunks\n",
    "folder_name = \"audio-chunks\"\n",
    "chunk_path_template = audio_fpath.replace(\".wav\", \"\") + \"_\" + folder_name\n",
    "if not os.path.isdir(chunk_path_template):\n",
    "    os.mkdir(chunk_path_template)\n",
    "chunk_path_template += \"/{}.wav\""
   ]
  },
  {
   "cell_type": "code",
   "execution_count": 159,
   "metadata": {},
   "outputs": [],
   "source": [
    "recognizer = sr.Recognizer()\n",
    "vidcap = cv2.VideoCapture(fpath)\n",
    "vid_fps = vidcap.get(cv2.CAP_PROP_FPS)"
   ]
  },
  {
   "cell_type": "code",
   "execution_count": 160,
   "metadata": {
    "scrolled": true
   },
   "outputs": [
    {
     "data": {
      "application/vnd.jupyter.widget-view+json": {
       "model_id": "4fc373b65b234d90b1cb8a09b81d01f2",
       "version_major": 2,
       "version_minor": 0
      },
      "text/plain": [
       "  0%|          | 0/1012925.0 [00:00<?, ?it/s]"
      ]
     },
     "metadata": {},
     "output_type": "display_data"
    },
    {
     "data": {
      "application/vnd.jupyter.widget-view+json": {
       "model_id": "beda91e2dc0b47208230f2c9af58d894",
       "version_major": 2,
       "version_minor": 0
      },
      "text/plain": [
       "  0%|          | 0/79 [00:00<?, ?it/s]"
      ]
     },
     "metadata": {},
     "output_type": "display_data"
    },
    {
     "name": "stdout",
     "output_type": "stream",
     "text": [
      "203 1\n",
      "206 1\n",
      "210 1\n",
      "213 1\n",
      "214 1\n",
      "215 1\n",
      "216 1\n",
      "217 1\n",
      "218 1\n",
      "219 1\n",
      "220 1\n",
      "221 1\n",
      "222 1\n",
      "223 1\n",
      "224 1\n",
      "225 1\n",
      "226 1\n",
      "227 1\n",
      "228 1\n",
      "229 1\n",
      "230 1\n",
      "231 1\n",
      "232 1\n",
      "233 1\n",
      "234 1\n",
      "235 2\n",
      "236 2\n",
      "237 2\n",
      "238 3\n",
      "239 3\n",
      "240 2\n",
      "241 1\n",
      "242 3\n",
      "243 3\n",
      "244 3\n",
      "245 2\n",
      "246 3\n",
      "247 2\n",
      "248 2\n",
      "249 2\n",
      "250 1\n",
      "251 2\n",
      "252 2\n",
      "253 2\n",
      "254 2\n",
      "255 1\n",
      "256 1\n",
      "257 3\n",
      "258 3\n",
      "259 3\n",
      "260 2\n",
      "261 3\n",
      "262 2\n",
      "263 1\n",
      "264 2\n",
      "265 1\n",
      "266 1\n",
      "267 1\n",
      "268 1\n",
      "269 1\n",
      "270 1\n",
      "271 1\n",
      "272 1\n",
      "273 1\n",
      "274 1\n",
      "275 1\n",
      "276 1\n",
      "277 1\n",
      "278 1\n",
      "279 1\n",
      "280 1\n",
      "281 1\n",
      "282 1\n",
      "283 1\n",
      "284 1\n",
      "285 1\n",
      "286 1\n",
      "287 1\n",
      "288 1\n",
      "289 1\n",
      "290 1\n",
      "291 1\n",
      "292 1\n",
      "293 1\n",
      "294 1\n",
      "295 1\n",
      "296 1\n",
      "297 1\n",
      "298 1\n",
      "299 1\n",
      "300 1\n",
      "301 1\n",
      "302 1\n",
      "303 1\n",
      "304 1\n",
      "305 1\n",
      "306 1\n",
      "307 1\n",
      "308 1\n",
      "309 1\n",
      "310 1\n",
      "311 1\n",
      "312 1\n",
      "313 1\n",
      "314 1\n",
      "315 1\n",
      "316 1\n",
      "317 1\n",
      "318 1\n",
      "319 1\n",
      "320 1\n",
      "321 1\n",
      "322 1\n",
      "323 1\n",
      "324 1\n",
      "325 1\n",
      "326 1\n",
      "327 1\n",
      "328 1\n",
      "329 1\n",
      "330 1\n",
      "331 1\n",
      "332 1\n",
      "333 1\n",
      "334 1\n",
      "335 1\n",
      "336 1\n",
      "337 1\n",
      "338 1\n",
      "339 1\n",
      "340 1\n",
      "341 1\n",
      "342 1\n",
      "343 1\n",
      "344 1\n",
      "345 1\n",
      "346 1\n",
      "347 1\n",
      "348 1\n",
      "349 1\n",
      "350 1\n",
      "351 1\n",
      "352 1\n",
      "353 1\n",
      "354 1\n",
      "355 1\n",
      "356 1\n",
      "357 1\n",
      "358 1\n",
      "359 1\n",
      "360 1\n",
      "361 1\n",
      "362 1\n",
      "363 1\n",
      "364 1\n",
      "365 1\n",
      "366 1\n",
      "367 1\n",
      "368 1\n",
      "369 1\n",
      "370 1\n",
      "371 1\n",
      "372 1\n",
      "373 1\n",
      "374 1\n",
      "375 1\n",
      "376 1\n",
      "377 1\n",
      "378 1\n",
      "379 1\n",
      "380 2\n",
      "381 1\n",
      "382 1\n",
      "383 1\n",
      "384 1\n",
      "385 1\n",
      "386 1\n",
      "387 1\n",
      "388 1\n",
      "389 1\n",
      "390 1\n",
      "391 1\n",
      "392 1\n",
      "393 1\n",
      "394 1\n",
      "395 1\n",
      "396 1\n",
      "397 1\n",
      "398 1\n",
      "399 1\n",
      "400 1\n",
      "401 1\n",
      "402 1\n",
      "403 1\n",
      "404 1\n",
      "405 1\n",
      "406 1\n",
      "407 1\n",
      "408 1\n",
      "409 1\n",
      "410 1\n",
      "411 1\n",
      "412 1\n",
      "413 1\n",
      "414 1\n",
      "415 1\n",
      "416 1\n",
      "417 1\n",
      "418 1\n",
      "419 1\n",
      "420 1\n",
      "421 1\n",
      "422 1\n",
      "423 1\n",
      "424 1\n",
      "425 1\n",
      "426 1\n",
      "427 1\n",
      "428 1\n",
      "429 1\n",
      "430 1\n",
      "431 1\n",
      "432 1\n",
      "433 1\n",
      "434 1\n",
      "435 1\n",
      "436 1\n",
      "437 1\n",
      "438 1\n",
      "439 1\n",
      "440 1\n",
      "441 3\n",
      "442 4\n",
      "443 4\n",
      "444 4\n",
      "445 3\n",
      "446 3\n",
      "447 3\n",
      "448 3\n",
      "449 3\n",
      "450 3\n",
      "451 3\n",
      "452 3\n",
      "453 3\n",
      "454 3\n",
      "455 3\n",
      "456 3\n",
      "457 3\n",
      "458 3\n",
      "459 3\n",
      "460 3\n",
      "461 3\n",
      "462 3\n",
      "463 2\n",
      "464 2\n",
      "465 2\n",
      "466 2\n",
      "467 2\n",
      "468 2\n",
      "469 2\n",
      "470 3\n",
      "471 3\n",
      "472 4\n",
      "473 4\n",
      "474 3\n",
      "475 3\n",
      "476 3\n",
      "477 3\n",
      "478 2\n",
      "479 2\n",
      "480 3\n",
      "481 1\n",
      "482 1\n",
      "483 1\n",
      "484 1\n",
      "485 1\n",
      "486 1\n",
      "487 1\n",
      "488 1\n",
      "489 1\n",
      "490 1\n",
      "491 1\n",
      "492 1\n",
      "493 1\n",
      "494 1\n",
      "495 1\n",
      "516 1\n",
      "517 1\n",
      "518 1\n",
      "519 1\n",
      "520 1\n",
      "521 1\n",
      "522 1\n",
      "524 1\n",
      "525 1\n",
      "526 1\n",
      "527 1\n",
      "528 1\n",
      "529 1\n",
      "530 1\n",
      "531 1\n",
      "532 1\n",
      "533 1\n",
      "534 1\n",
      "535 1\n",
      "536 1\n",
      "537 1\n",
      "538 1\n",
      "539 1\n",
      "540 1\n",
      "541 1\n"
     ]
    },
    {
     "ename": "KeyboardInterrupt",
     "evalue": "",
     "output_type": "error",
     "traceback": [
      "\u001b[0;31m---------------------------------------------------------------------------\u001b[0m",
      "\u001b[0;31mKeyboardInterrupt\u001b[0m                         Traceback (most recent call last)",
      "Input \u001b[0;32mIn [160]\u001b[0m, in \u001b[0;36m<cell line: 16>\u001b[0;34m()\u001b[0m\n\u001b[1;32m     35\u001b[0m     \u001b[38;5;28mprint\u001b[39m(\u001b[38;5;124m\"\u001b[39m\u001b[38;5;124mSmth went wrong while reading frame!\u001b[39m\u001b[38;5;124m\"\u001b[39m)\n\u001b[1;32m     36\u001b[0m     \u001b[38;5;28;01mbreak\u001b[39;00m\n\u001b[0;32m---> 38\u001b[0m speaking_persons \u001b[38;5;241m=\u001b[39m \u001b[43mfind_speaking_persons\u001b[49m\u001b[43m(\u001b[49m\u001b[43mframe\u001b[49m\u001b[43m)\u001b[49m\n\u001b[1;32m     40\u001b[0m \u001b[38;5;28;01mif\u001b[39;00m \u001b[38;5;28mlen\u001b[39m(speaking_persons) \u001b[38;5;241m>\u001b[39m \u001b[38;5;241m0\u001b[39m:\n\u001b[1;32m     41\u001b[0m     \u001b[38;5;28mprint\u001b[39m(n_frames_read, \u001b[38;5;28mlen\u001b[39m(speaking_persons))\n",
      "Input \u001b[0;32mIn [157]\u001b[0m, in \u001b[0;36mfind_speaking_persons\u001b[0;34m(frame)\u001b[0m\n\u001b[1;32m      1\u001b[0m \u001b[38;5;28;01mdef\u001b[39;00m \u001b[38;5;21mfind_speaking_persons\u001b[39m(frame):\n\u001b[0;32m----> 2\u001b[0m     speaking_mouths \u001b[38;5;241m=\u001b[39m \u001b[43mfind_speaking_mouths\u001b[49m\u001b[43m(\u001b[49m\u001b[43mframe\u001b[49m\u001b[43m)\u001b[49m\n\u001b[1;32m      4\u001b[0m     \u001b[38;5;66;03m# TODO: find faces\u001b[39;00m\n\u001b[1;32m      5\u001b[0m     \u001b[38;5;66;03m# TODO: assign faces to speaking mouths\u001b[39;00m\n\u001b[1;32m      7\u001b[0m     \u001b[38;5;28;01mreturn\u001b[39;00m speaking_mouths\n",
      "Input \u001b[0;32mIn [156]\u001b[0m, in \u001b[0;36mfind_speaking_mouths\u001b[0;34m(frame)\u001b[0m\n\u001b[1;32m      1\u001b[0m \u001b[38;5;28;01mdef\u001b[39;00m \u001b[38;5;21mfind_speaking_mouths\u001b[39m(frame):\n\u001b[0;32m----> 2\u001b[0m     face_landmarks \u001b[38;5;241m=\u001b[39m \u001b[43mface_recognition\u001b[49m\u001b[38;5;241;43m.\u001b[39;49m\u001b[43mface_landmarks\u001b[49m\u001b[43m(\u001b[49m\u001b[43mframe\u001b[49m\u001b[43m)\u001b[49m\n\u001b[1;32m      3\u001b[0m     speaking_mouths \u001b[38;5;241m=\u001b[39m []\n\u001b[1;32m      5\u001b[0m \u001b[38;5;66;03m#     print(face_landmarks)\u001b[39;00m\n",
      "File \u001b[0;32m/usr/local/lib/python3.8/site-packages/face_recognition/api.py:177\u001b[0m, in \u001b[0;36mface_landmarks\u001b[0;34m(face_image, face_locations, model)\u001b[0m\n\u001b[1;32m    168\u001b[0m \u001b[38;5;28;01mdef\u001b[39;00m \u001b[38;5;21mface_landmarks\u001b[39m(face_image, face_locations\u001b[38;5;241m=\u001b[39m\u001b[38;5;28;01mNone\u001b[39;00m, model\u001b[38;5;241m=\u001b[39m\u001b[38;5;124m\"\u001b[39m\u001b[38;5;124mlarge\u001b[39m\u001b[38;5;124m\"\u001b[39m):\n\u001b[1;32m    169\u001b[0m     \u001b[38;5;124;03m\"\"\"\u001b[39;00m\n\u001b[1;32m    170\u001b[0m \u001b[38;5;124;03m    Given an image, returns a dict of face feature locations (eyes, nose, etc) for each face in the image\u001b[39;00m\n\u001b[1;32m    171\u001b[0m \n\u001b[0;32m   (...)\u001b[0m\n\u001b[1;32m    175\u001b[0m \u001b[38;5;124;03m    :return: A list of dicts of face feature locations (eyes, nose, etc)\u001b[39;00m\n\u001b[1;32m    176\u001b[0m \u001b[38;5;124;03m    \"\"\"\u001b[39;00m\n\u001b[0;32m--> 177\u001b[0m     landmarks \u001b[38;5;241m=\u001b[39m \u001b[43m_raw_face_landmarks\u001b[49m\u001b[43m(\u001b[49m\u001b[43mface_image\u001b[49m\u001b[43m,\u001b[49m\u001b[43m \u001b[49m\u001b[43mface_locations\u001b[49m\u001b[43m,\u001b[49m\u001b[43m \u001b[49m\u001b[43mmodel\u001b[49m\u001b[43m)\u001b[49m\n\u001b[1;32m    178\u001b[0m     landmarks_as_tuples \u001b[38;5;241m=\u001b[39m [[(p\u001b[38;5;241m.\u001b[39mx, p\u001b[38;5;241m.\u001b[39my) \u001b[38;5;28;01mfor\u001b[39;00m p \u001b[38;5;129;01min\u001b[39;00m landmark\u001b[38;5;241m.\u001b[39mparts()] \u001b[38;5;28;01mfor\u001b[39;00m landmark \u001b[38;5;129;01min\u001b[39;00m landmarks]\n\u001b[1;32m    180\u001b[0m     \u001b[38;5;66;03m# For a definition of each point index, see https://cdn-images-1.medium.com/max/1600/1*AbEg31EgkbXSQehuNJBlWg.png\u001b[39;00m\n",
      "File \u001b[0;32m/usr/local/lib/python3.8/site-packages/face_recognition/api.py:165\u001b[0m, in \u001b[0;36m_raw_face_landmarks\u001b[0;34m(face_image, face_locations, model)\u001b[0m\n\u001b[1;32m    162\u001b[0m \u001b[38;5;28;01mif\u001b[39;00m model \u001b[38;5;241m==\u001b[39m \u001b[38;5;124m\"\u001b[39m\u001b[38;5;124msmall\u001b[39m\u001b[38;5;124m\"\u001b[39m:\n\u001b[1;32m    163\u001b[0m     pose_predictor \u001b[38;5;241m=\u001b[39m pose_predictor_5_point\n\u001b[0;32m--> 165\u001b[0m \u001b[38;5;28;01mreturn\u001b[39;00m [pose_predictor(face_image, face_location) \u001b[38;5;28;01mfor\u001b[39;00m face_location \u001b[38;5;129;01min\u001b[39;00m face_locations]\n",
      "File \u001b[0;32m/usr/local/lib/python3.8/site-packages/face_recognition/api.py:165\u001b[0m, in \u001b[0;36m<listcomp>\u001b[0;34m(.0)\u001b[0m\n\u001b[1;32m    162\u001b[0m \u001b[38;5;28;01mif\u001b[39;00m model \u001b[38;5;241m==\u001b[39m \u001b[38;5;124m\"\u001b[39m\u001b[38;5;124msmall\u001b[39m\u001b[38;5;124m\"\u001b[39m:\n\u001b[1;32m    163\u001b[0m     pose_predictor \u001b[38;5;241m=\u001b[39m pose_predictor_5_point\n\u001b[0;32m--> 165\u001b[0m \u001b[38;5;28;01mreturn\u001b[39;00m [pose_predictor(face_image, face_location) \u001b[38;5;28;01mfor\u001b[39;00m face_location \u001b[38;5;129;01min\u001b[39;00m face_locations]\n",
      "\u001b[0;31mKeyboardInterrupt\u001b[0m: "
     ]
    }
   ],
   "source": [
    "n_frames_read = 0\n",
    "\n",
    "bar = tqdm(total=int(vidcap.get(cv2.CAP_PROP_FRAME_COUNT)) * vid_fps,\n",
    "           leave=True)\n",
    "\n",
    "def read_frame():    \n",
    "    global n_frames_read\n",
    "    \n",
    "    frame = vidcap.read()\n",
    "    \n",
    "    n_frames_read += 1\n",
    "    \n",
    "    bar.update(1)\n",
    "    return frame\n",
    "\n",
    "for chunk_tuple in tqdm(chunks):\n",
    "    st_t, chunk = chunk_tuple\n",
    "    chunk_fpath = save_chunk(chunk_tuple, chunk_path_template)\n",
    "    if chunk_fpath is None:\n",
    "        continue\n",
    "    chunk_text = transcribe_chunk(recognizer, chunk_fpath, LANG)\n",
    "    if chunk_text is None:\n",
    "        continue\n",
    "        \n",
    "    t_range = (st_t, st_t + chunk.frame_count() / N_FRAMES_IN_SECOND)\n",
    "    vframe_range = tuple(int(t * vid_fps) for t in t_range)\n",
    "    \n",
    "    while vframe_range[0] > n_frames_read:\n",
    "        read_frame()\n",
    "#         n_frames_read += 1\n",
    "            \n",
    "    while n_frames_read <= vframe_range[1]:\n",
    "        success, frame = read_frame()\n",
    "        if not success:\n",
    "            print(\"Smth went wrong while reading frame!\")\n",
    "            break\n",
    "        \n",
    "        speaking_persons = find_speaking_persons(frame)\n",
    "        \n",
    "        if len(speaking_persons) > 0:\n",
    "            print(n_frames_read, len(speaking_persons))\n",
    "        \n",
    "#         n_frames_read += 1\n",
    "            \n",
    "        \n",
    "    break"
   ]
  },
  {
   "cell_type": "code",
   "execution_count": null,
   "metadata": {},
   "outputs": [],
   "source": []
  },
  {
   "cell_type": "code",
   "execution_count": null,
   "metadata": {},
   "outputs": [],
   "source": []
  },
  {
   "cell_type": "code",
   "execution_count": null,
   "metadata": {},
   "outputs": [],
   "source": []
  },
  {
   "cell_type": "code",
   "execution_count": null,
   "metadata": {},
   "outputs": [],
   "source": []
  },
  {
   "cell_type": "code",
   "execution_count": null,
   "metadata": {},
   "outputs": [],
   "source": []
  },
  {
   "cell_type": "code",
   "execution_count": null,
   "metadata": {},
   "outputs": [],
   "source": []
  },
  {
   "cell_type": "code",
   "execution_count": null,
   "metadata": {},
   "outputs": [],
   "source": []
  },
  {
   "cell_type": "code",
   "execution_count": null,
   "metadata": {},
   "outputs": [],
   "source": []
  },
  {
   "cell_type": "code",
   "execution_count": null,
   "metadata": {},
   "outputs": [],
   "source": []
  },
  {
   "cell_type": "code",
   "execution_count": null,
   "metadata": {},
   "outputs": [],
   "source": []
  },
  {
   "cell_type": "code",
   "execution_count": null,
   "metadata": {},
   "outputs": [],
   "source": []
  },
  {
   "cell_type": "code",
   "execution_count": null,
   "metadata": {},
   "outputs": [],
   "source": []
  },
  {
   "cell_type": "code",
   "execution_count": null,
   "metadata": {},
   "outputs": [],
   "source": []
  },
  {
   "cell_type": "code",
   "execution_count": null,
   "metadata": {},
   "outputs": [],
   "source": []
  },
  {
   "cell_type": "code",
   "execution_count": null,
   "metadata": {},
   "outputs": [],
   "source": []
  },
  {
   "cell_type": "code",
   "execution_count": null,
   "metadata": {},
   "outputs": [],
   "source": []
  },
  {
   "cell_type": "code",
   "execution_count": null,
   "metadata": {},
   "outputs": [],
   "source": []
  },
  {
   "cell_type": "code",
   "execution_count": null,
   "metadata": {},
   "outputs": [],
   "source": []
  },
  {
   "cell_type": "code",
   "execution_count": null,
   "metadata": {},
   "outputs": [],
   "source": []
  },
  {
   "cell_type": "code",
   "execution_count": null,
   "metadata": {},
   "outputs": [],
   "source": []
  },
  {
   "cell_type": "code",
   "execution_count": null,
   "metadata": {},
   "outputs": [],
   "source": []
  },
  {
   "cell_type": "code",
   "execution_count": null,
   "metadata": {},
   "outputs": [],
   "source": []
  },
  {
   "cell_type": "markdown",
   "metadata": {},
   "source": [
    "# Audio Recognition"
   ]
  },
  {
   "cell_type": "code",
   "execution_count": 2,
   "metadata": {},
   "outputs": [],
   "source": [
    "from moviepy.editor import VideoFileClip\n",
    "\n",
    "video = VideoFileClip(fpath)\n"
   ]
  },
  {
   "cell_type": "code",
   "execution_count": 3,
   "metadata": {},
   "outputs": [],
   "source": [
    "audio = video.audio"
   ]
  },
  {
   "cell_type": "code",
   "execution_count": 4,
   "metadata": {},
   "outputs": [
    {
     "name": "stdout",
     "output_type": "stream",
     "text": [
      "MoviePy - Writing audio in /Users/andreyignatov/Downloads/ГРОМКИЙ_ВОПРОС.wav\n"
     ]
    },
    {
     "name": "stderr",
     "output_type": "stream",
     "text": [
      "                                                                        "
     ]
    },
    {
     "name": "stdout",
     "output_type": "stream",
     "text": [
      "MoviePy - Done.\n"
     ]
    },
    {
     "name": "stderr",
     "output_type": "stream",
     "text": [
      "\r"
     ]
    }
   ],
   "source": [
    "audio.write_audiofile(audio_fpath)"
   ]
  },
  {
   "cell_type": "code",
   "execution_count": 26,
   "metadata": {},
   "outputs": [],
   "source": [
    "import numpy as np\n",
    "import matplotlib.pyplot as plt"
   ]
  },
  {
   "cell_type": "code",
   "execution_count": 13,
   "metadata": {},
   "outputs": [],
   "source": [
    "import speech_recognition as sr\n",
    "import os\n",
    "from pydub import AudioSegment\n",
    "from pydub.silence import detect_nonsilent\n",
    "from tqdm.notebook import tqdm\n",
    "\n",
    "# Create a speech recognition object\n",
    "r = sr.Recognizer()"
   ]
  },
  {
   "cell_type": "code",
   "execution_count": 32,
   "metadata": {},
   "outputs": [],
   "source": [
    "def split_on_silence(audio_segment, min_silence_len=1000, silence_thresh=-16, keep_silence=100,\n",
    "                     seek_step=1, with_timing=False, verbose=False):\n",
    "    not_silence_ranges = detect_nonsilent(audio_segment, min_silence_len, silence_thresh, seek_step)\n",
    "    chunks = []\n",
    "    if verbose:\n",
    "        _range = tqdm(not_silence_ranges)\n",
    "    else:\n",
    "        _range = not_silence_ranges\n",
    "    if with_timing:\n",
    "        for start_i, end_i in _range:\n",
    "            start_i = max(0, start_i - keep_silence)\n",
    "            end_i += keep_silence\n",
    "            chunks.append((start_i, audio_segment[start_i:end_i]))\n",
    "    else:\n",
    "        for start_i, end_i in _range:\n",
    "            start_i = max(0, start_i - keep_silence)\n",
    "            end_i += keep_silence\n",
    "            chunks.append(audio_segment[start_i:end_i])\n",
    "\n",
    "    return chunks"
   ]
  },
  {
   "cell_type": "code",
   "execution_count": 33,
   "metadata": {},
   "outputs": [],
   "source": [
    "def split(path, **kwargs):\n",
    "    \"\"\"Split audio into chunks and apply speech recognition\"\"\"\n",
    "    # Open audio file with pydub\n",
    "    sound = AudioSegment.from_wav(path)\n",
    "    # Split audio where silence is 700ms or greater and get chunks\n",
    "    chunks = split_on_silence(sound, \n",
    "                              min_silence_len=700, \n",
    "                              silence_thresh=sound.dBFS-14, \n",
    "                              keep_silence=700, **kwargs)\n",
    "    return chunks"
   ]
  },
  {
   "cell_type": "code",
   "execution_count": 34,
   "metadata": {},
   "outputs": [],
   "source": [
    "def transcribe_large_audio(chunks, language):\n",
    "    # Create folder to store audio chunks\n",
    "    folder_name = \"audio-chunks\"\n",
    "    if not os.path.isdir(folder_name):\n",
    "        os.mkdir(folder_name)\n",
    "    \n",
    "    whole_text = \"\"\n",
    "    # Process each chunk\n",
    "    for i, audio_chunk in tqdm(enumerate(chunks, start=1)):\n",
    "        # Export chunk and save in folder\n",
    "        chunk_filename = os.path.join(folder_name, f\"chunk{i}.wav\")\n",
    "        audio_chunk.export(chunk_filename, format=\"wav\")\n",
    "        # Recognize chunk\n",
    "        with sr.AudioFile(chunk_filename) as source:\n",
    "            audio_listened = r.record(source)\n",
    "            # Convert to text\n",
    "            try:\n",
    "                text = r.recognize_google(audio_listened, language=language)\n",
    "            except sr.UnknownValueError as e:\n",
    "                print(\"Error:\", str(e))\n",
    "            else:\n",
    "                text = f\"{text.capitalize()}. \"\n",
    "                print(chunk_filename, \":\", text)\n",
    "                whole_text += text\n",
    "    # Return text for all chunks\n",
    "    return whole_text"
   ]
  },
  {
   "cell_type": "code",
   "execution_count": 35,
   "metadata": {},
   "outputs": [
    {
     "data": {
      "application/vnd.jupyter.widget-view+json": {
       "model_id": "14ec7278f00442199b0ad3bd5899a7d5",
       "version_major": 2,
       "version_minor": 0
      },
      "text/plain": [
       "  0%|          | 0/79 [00:00<?, ?it/s]"
      ]
     },
     "metadata": {},
     "output_type": "display_data"
    }
   ],
   "source": [
    "chunks = split(audio_fpath, with_timing=True, verbose=True)"
   ]
  },
  {
   "cell_type": "code",
   "execution_count": 36,
   "metadata": {},
   "outputs": [
    {
     "data": {
      "text/plain": [
       "(1589417, <pydub.audio_segment.AudioSegment at 0x1291ac310>)"
      ]
     },
     "execution_count": 36,
     "metadata": {},
     "output_type": "execute_result"
    }
   ],
   "source": [
    "chunks[-1]"
   ]
  },
  {
   "cell_type": "code",
   "execution_count": 24,
   "metadata": {},
   "outputs": [],
   "source": [
    "N_FRAMES_IN_SECOND = 44100.0"
   ]
  },
  {
   "cell_type": "code",
   "execution_count": 50,
   "metadata": {},
   "outputs": [
    {
     "data": {
      "image/png": "[encoded data removed]",
      "text/plain": [
       "<Figure size 1000x500 with 1 Axes>"
      ]
     },
     "metadata": {},
     "output_type": "display_data"
    }
   ],
   "source": [
    "plt.figure(figsize=(10,5))\n",
    "plt.hist([c.frame_count() / N_FRAMES_IN_SECOND for _, c in chunks], bins=50)\n",
    "plt.show()"
   ]
  },
  {
   "cell_type": "code",
   "execution_count": 62,
   "metadata": {},
   "outputs": [
    {
     "data": {
      "image/png": "[encoded data removed]",
      "text/plain": [
       "<Figure size 1000x500 with 1 Axes>"
      ]
     },
     "metadata": {},
     "output_type": "display_data"
    }
   ],
   "source": [
    "plt.figure(figsize=(10,5))\n",
    "plt.plot([c.frame_count() / N_FRAMES_IN_SECOND for _, c in chunks])\n",
    "plt.show()"
   ]
  },
  {
   "cell_type": "code",
   "execution_count": 69,
   "metadata": {
    "scrolled": true
   },
   "outputs": [
    {
     "data": {
      "application/vnd.jupyter.widget-view+json": {
       "model_id": "caf49bf58062469c81d57ed85f8ff725",
       "version_major": 2,
       "version_minor": 0
      },
      "text/plain": [
       "0it [00:00, ?it/s]"
      ]
     },
     "metadata": {},
     "output_type": "display_data"
    },
    {
     "name": "stdout",
     "output_type": "stream",
     "text": [
      "audio-chunks/chunk1.wav : Получаете супер кэшбэк бесплатная дебетовая альфа карта закажите в апреле и получите 1000руб ребята всем привет это канал импроком это шоу громкий вопрос всем привет друзья сразу перед тем как начнём хочу вам сказать вы иногда забывайте подписаться на наш замечательный канал я скажу это вначале что вы сейчас не забыли подпишитесь на канал чтобы не пропускать видосы на мой я на его тоже. \n",
      "audio-chunks/chunk2.wav : Фамилия которого мечтает каждый граф великолепный stand up комик сергей орлов нарядный пришёл на передачу пришёл на передачу с правильно как у тебя дела всё хорошо всё нормально каким хреном вы укладывать волосы я всё нам вообще не пользуюсь у меня руки вот так вот вот так вот потому что он нужен aviasales чтобы отслеживать покупки и поиску дешёвых авиабилетов свяжитесь с нами лучше не будет это даже скорее вот эта песня а какие-то мне уже приносили я уже разгонял с авторской группой зал. \n",
      "audio-chunks/chunk3.wav : Ты смотрел хоть один выпуск нашёл я листал но решил что полностью ну на самом деле не против когда мне люди говорят там наши типа блин вот я что-то слышал но никогда в жизни не смотрел давай сфоткаемся и так я вообще кстати не против я знаю когда-то раньше я жил в парадигму что все люди должны любить стендап я не знаю почему я думал что вот все люди в мире любят и смотрят stand-up а потом когда я понял что это вообще не такси ну я такой ну не смотрите его поэтому туда пошёл я из-за этого подумала то что я сильно в этом я подумал что и все тоже вокруг это смотрят то есть я прямо такой спорт ты что вот это не смотрел он такой нет что ты блин ты как ты не смотрела господи ты слушался. \n",
      "audio-chunks/chunk4.wav : Ну отрывками конечно же ну что ж скоро придёте куда ну когда точно тебя не смущает что мы до сих пор не пришли я жду вот как футболисты придумают как они празднуют гол как маколей калкин в один дома самое всё правильно сказал уе двигаемся дальше минутка есть напряжение ваших нам пригодятся важно но есть один секретик мы не будем друг друга слушать потом услышать потому что мы будем в. \n",
      "audio-chunks/chunk5.wav : Ну это я так просто так говорю если ты не понял зачем нам наушники дисконтирования сегодня будет хорошая игра к первому вопросу поехали. \n",
      "audio-chunks/chunk6.wav : Давай читай читай читай читай. \n",
      "audio-chunks/chunk7.wav : Оружие оружие оружие оружие для для метания камней для метания. \n",
      "audio-chunks/chunk8.wav : Катапульта. \n",
      "audio-chunks/chunk9.wav : Пиши. \n",
      "audio-chunks/chunk10.wav : Мои бумаги. \n",
      "Error: \n",
      "Error: \n",
      "Error: \n",
      "Error: \n",
      "audio-chunks/chunk15.wav : Господа пришёл человек с образованием потому что я такой точно это точно так а потом когда уже вам сказал я читал вопрос а там есть нюанс есть слова холодная блять ручное оружие для метания камней ручной блядь блядь пиздец называется прощай прощай прощай прощай оружие для метания камней бесплатно в описании. \n",
      "audio-chunks/chunk16.wav : Поехали давайте давай чувак делает врач врач врач врач врач врач врач врач врач ухо-горло-нос врач оториноларинголог полностью лор полной оториноларинголог. \n",
      "audio-chunks/chunk17.wav : Оториноларинголог пишется 18 букв 18 букв блядь 18 букв блядь ты уже снял ахуеть. \n",
      "audio-chunks/chunk18.wav : Напиши блядь. \n",
      "audio-chunks/chunk19.wav : Ёбанный в рот. \n",
      "audio-chunks/chunk20.wav : Блядь сейчас ну ты в натуре. \n",
      "audio-chunks/chunk21.wav : Ты же мне всё объяснил я поехал за 2 часа лекции блять уебался всё блядь видимо всё объяснил я написала теперь он в панике офис что в панике получается знает о или а. \n",
      "audio-chunks/chunk22.wav : Ну дай бог. \n",
      "audio-chunks/chunk23.wav : Я почту не смотрел же я вот как да абсолютно. \n",
      "audio-chunks/chunk24.wav : Тонет кто-то блять всё пиздец всё написали врача-лора так нет уточнения в народе. \n",
      "audio-chunks/chunk25.wav : Или по правильно смородину у него ещё полная да-да-да потом а и получилось можно получилось как будто это анархия вот тоже. \n",
      "audio-chunks/chunk26.wav : Аренда ухо ларингита горло арина это нас как ты написал бизнес для волан-де-морта. \n",
      "audio-chunks/chunk27.wav : Потому что ларин возглавлял аренду я ещё что если ты можешь полностью произнести от ухо-горло-нос. \n",
      "audio-chunks/chunk28.wav : Отоларинголог ну всё от клейма на латыни вот так если ты сердечко поставил да всё что-ли врачи загорелась что делать. \n",
      "audio-chunks/chunk29.wav : Воинское звание после полковника полковник погоны генерал-майор звание после после полковника полковник потом генерал генерал-полковник звезда генерала полковника. \n",
      "audio-chunks/chunk30.wav : Так блин так-то так я сказал напиши подожди давай напиши. \n",
      "Error: \n",
      "audio-chunks/chunk32.wav : А ну всё я понял. \n",
      "audio-chunks/chunk33.wav : Знаешь как я понял что это погоны у меня есть один знакомый который делает вид что он бандит. \n",
      "audio-chunks/chunk34.wav : У меня есть товарищ ну он просто неправильно показывает алкаша подожди. \n",
      "audio-chunks/chunk35.wav : Так а там какой вопрос. \n",
      "audio-chunks/chunk36.wav : Воинское звание следующее после полковника да да подожди ты зачем звёздами объяснял генерал-полковник полковник половник паломник после полковника генерал-майор генерал-лейтенант генерал-полковник. \n",
      "audio-chunks/chunk37.wav : А потом бог омар написал написал написал генерал-полковник генерал-лейтенант генерал-полковник полковнику никто не написал поэтому. \n",
      "audio-chunks/chunk38.wav : Насколько плохо. \n",
      "audio-chunks/chunk39.wav : Есть есть да я тебе поставь. \n",
      "audio-chunks/chunk40.wav : Ладно три звезды как они а4 генерал армии. \n",
      "audio-chunks/chunk41.wav : У нас генерал-майор генерал-лейтенант или генерал армии. \n",
      "audio-chunks/chunk42.wav : Генерал с тремя звёздами а почему тогда нет генерала генерала блять ну давай ну давай ну что ты накопить силы генерал есть генерал-полковник. \n",
      "audio-chunks/chunk43.wav : Ну вроде есть. \n",
      "audio-chunks/chunk44.wav : Авито смотришь где генерал-майор написал генерал-майор написали генерал-майор генерал-полковник а дальше генерал-майор показывал он мне показывает что он такой ну вот генерал и полковник генерал полковник подождите ну прошлый раз нам свет засчитал полную хуйню может сейчас за слово генерал ну сейчас посмотрим открывай открывай так генерал-майор блять ну конечно генерал-майор конечно вы были правы генерал майор генерал-майор. \n",
      "audio-chunks/chunk45.wav : Генерал-майор блин ну а вдруг там сильная карьерная лестница у человека и он после полковника сразу генерал-полковник вообще не секу блин я же не служил блины поэтому я вообще ни секунды не заслужил давайте поймём заслужил но я уже 2 года я же генерал полковник запаса 2 недели я проявил генерал-полковник запас. \n",
      "audio-chunks/chunk46.wav : Четвертому вопросу поехали. \n",
      "audio-chunks/chunk47.wav : Напишите напиши гласные буквы гласные буквы а. \n",
      "audio-chunks/chunk48.wav : О. \n",
      "audio-chunks/chunk49.wav : Алфавит алфавит алфавит буквы алфавит буквы гласные гласные согласные буквы гласные буквы алфавита все. \n",
      "audio-chunks/chunk50.wav : Ебать. \n",
      "Error: \n",
      "audio-chunks/chunk52.wav : Их 10 штук. \n",
      "audio-chunks/chunk53.wav : 10 штук 10 штук. \n",
      "audio-chunks/chunk54.wav : У меня 9. \n",
      "audio-chunks/chunk55.wav : 12/12 а сколько их блядь я хотел спросить сколько у вас получилось и всё не успел сейчас сейчас сейчас. \n",
      "audio-chunks/chunk56.wav : Ну как-то надо было прийти к общему знаменателю. \n",
      "audio-chunks/chunk57.wav : Сейчас техновсе уже нельзя писать даже если что-то вспомнил. \n",
      "audio-chunks/chunk58.wav : У меня не хватает вы знаете конечно сейчас я знаю я знаю это уже тоже теперь написала а ты что. \n",
      "audio-chunks/chunk59.wav : Сидишь. \n",
      "audio-chunks/chunk60.wav : Нужно записать что ты сидишь. \n",
      "audio-chunks/chunk61.wav : Откуда знаешь количество. \n",
      "Error: \n",
      "audio-chunks/chunk63.wav : Ты опирался на свои знания. \n",
      "audio-chunks/chunk64.wav : Убеждён что ничего не забыл их стопы давайте серёга очень долго если честно. \n",
      "Error: \n",
      "audio-chunks/chunk66.wav : Пиздец долго только русский. \n",
      "Error: \n",
      "audio-chunks/chunk68.wav : 34567. \n",
      "audio-chunks/chunk69.wav : Одной не хватает а всё-всё-всё всё-всё-всё всё-всё-всё. \n",
      "audio-chunks/chunk70.wav : А её ййй я от этого до 2-й как тянуть а у тебя сколько. \n",
      "audio-chunks/chunk71.wav : Москва 2-й могу тянуть если честно ну-ка получаете супер кэшбэк бесплатная дебетовая альфа карта закажите в апреле и получите 1.000 руб а какую не можешь у меня оно не тянется а я блин ну вот этот вопрос напишите все. \n"
     ]
    },
    {
     "name": "stdout",
     "output_type": "stream",
     "text": [
      "audio-chunks/chunk72.wav : Просто среди них есть ещё и согласно можно как-то ебаться я же все написал какой нет давайте какой гласный тут нет а мне нравится тебе написал весь алфавит напишите только гласные буквы напишите я написал да вы сами считаете что ваш ответ да-да но есть проблема только да или нет мой товарищ по команде не может тянуть букву и не могу. \n",
      "audio-chunks/chunk73.wav : Она прикурила блядь raquo скинул слушать такие претензии иногда такие подожди ну как так нельзя тоже рассуждать назови хоть одно слово и не вспомнила. \n",
      "audio-chunks/chunk74.wav : Ну ты что ты за вопросы не документы надо писать ну как посчитать в одной игре я перепутал перепутал не знал перепутал название площадей в санкт-петербург ну я подумал раз нашей команде не все знают буквы я ю е 456789 10 выигрыш ёбанный лотерею но не написал я подписал добавил одну нельзя у него забрать ту которую он добавил сюда и краткая добавил блин. \n",
      "audio-chunks/chunk75.wav : У меня на одну рот количество а нет вопроса про количество да нельзя любую написать играть совпало напишите 10 букв. \n",
      "audio-chunks/chunk76.wav : Пока у вас другой букве. \n",
      "audio-chunks/chunk77.wav : Если 2 буквы и тут много. \n",
      "audio-chunks/chunk78.wav : Ну сейчас туда. \n",
      "audio-chunks/chunk79.wav : Придумай мне можно 24 на последнюю букву заканчивается как у всех да хотелось бы чтобы продолжался конечно. \n"
     ]
    }
   ],
   "source": [
    "result = transcribe_large_audio(chunks, language)"
   ]
  },
  {
   "cell_type": "markdown",
   "metadata": {},
   "source": [
    "# Video Face Recognition"
   ]
  },
  {
   "cell_type": "code",
   "execution_count": 75,
   "metadata": {},
   "outputs": [],
   "source": [
    "import cv2\n",
    "import face_recognition\n",
    "import numpy as np"
   ]
  },
  {
   "cell_type": "code",
   "execution_count": 82,
   "metadata": {},
   "outputs": [
    {
     "data": {
      "text/plain": [
       "True"
      ]
     },
     "execution_count": 82,
     "metadata": {},
     "output_type": "execute_result"
    }
   ],
   "source": [
    "cap = cv2.VideoCapture(0)\n",
    "cap.set(3, 640)\n",
    "cap.set(4, 640)"
   ]
  },
  {
   "cell_type": "code",
   "execution_count": 83,
   "metadata": {},
   "outputs": [],
   "source": [
    "mouth_pts = []"
   ]
  },
  {
   "cell_type": "code",
   "execution_count": 84,
   "metadata": {},
   "outputs": [
    {
     "ename": "KeyboardInterrupt",
     "evalue": "",
     "output_type": "error",
     "traceback": [
      "\u001b[0;31m---------------------------------------------------------------------------\u001b[0m",
      "\u001b[0;31mKeyboardInterrupt\u001b[0m                         Traceback (most recent call last)",
      "Input \u001b[0;32mIn [84]\u001b[0m, in \u001b[0;36m<cell line: 3>\u001b[0;34m()\u001b[0m\n\u001b[1;32m      1\u001b[0m \u001b[38;5;28;01mwhile\u001b[39;00m \u001b[38;5;28;01mTrue\u001b[39;00m:\n\u001b[1;32m      2\u001b[0m     \u001b[38;5;66;03m# Grab a single frame of video\u001b[39;00m\n\u001b[1;32m      3\u001b[0m     ret, frame \u001b[38;5;241m=\u001b[39m cap\u001b[38;5;241m.\u001b[39mread()\n\u001b[0;32m----> 5\u001b[0m     face_landmarks \u001b[38;5;241m=\u001b[39m \u001b[43mface_recognition\u001b[49m\u001b[38;5;241;43m.\u001b[39;49m\u001b[43mface_landmarks\u001b[49m\u001b[43m(\u001b[49m\u001b[43mframe\u001b[49m\u001b[43m)\u001b[49m\n\u001b[1;32m      7\u001b[0m     \u001b[38;5;28;01mtry\u001b[39;00m:\n\u001b[1;32m      8\u001b[0m         p1\u001b[38;5;241m=\u001b[39mface_landmarks[\u001b[38;5;241m0\u001b[39m][\u001b[38;5;124m'\u001b[39m\u001b[38;5;124mtop_lip\u001b[39m\u001b[38;5;124m'\u001b[39m]\n",
      "File \u001b[0;32m/usr/local/lib/python3.8/site-packages/face_recognition/api.py:177\u001b[0m, in \u001b[0;36mface_landmarks\u001b[0;34m(face_image, face_locations, model)\u001b[0m\n\u001b[1;32m    168\u001b[0m \u001b[38;5;28;01mdef\u001b[39;00m \u001b[38;5;21mface_landmarks\u001b[39m(face_image, face_locations\u001b[38;5;241m=\u001b[39m\u001b[38;5;28;01mNone\u001b[39;00m, model\u001b[38;5;241m=\u001b[39m\u001b[38;5;124m\"\u001b[39m\u001b[38;5;124mlarge\u001b[39m\u001b[38;5;124m\"\u001b[39m):\n\u001b[1;32m    169\u001b[0m     \u001b[38;5;124;03m\"\"\"\u001b[39;00m\n\u001b[1;32m    170\u001b[0m \u001b[38;5;124;03m    Given an image, returns a dict of face feature locations (eyes, nose, etc) for each face in the image\u001b[39;00m\n\u001b[1;32m    171\u001b[0m \n\u001b[0;32m   (...)\u001b[0m\n\u001b[1;32m    175\u001b[0m \u001b[38;5;124;03m    :return: A list of dicts of face feature locations (eyes, nose, etc)\u001b[39;00m\n\u001b[1;32m    176\u001b[0m \u001b[38;5;124;03m    \"\"\"\u001b[39;00m\n\u001b[0;32m--> 177\u001b[0m     landmarks \u001b[38;5;241m=\u001b[39m \u001b[43m_raw_face_landmarks\u001b[49m\u001b[43m(\u001b[49m\u001b[43mface_image\u001b[49m\u001b[43m,\u001b[49m\u001b[43m \u001b[49m\u001b[43mface_locations\u001b[49m\u001b[43m,\u001b[49m\u001b[43m \u001b[49m\u001b[43mmodel\u001b[49m\u001b[43m)\u001b[49m\n\u001b[1;32m    178\u001b[0m     landmarks_as_tuples \u001b[38;5;241m=\u001b[39m [[(p\u001b[38;5;241m.\u001b[39mx, p\u001b[38;5;241m.\u001b[39my) \u001b[38;5;28;01mfor\u001b[39;00m p \u001b[38;5;129;01min\u001b[39;00m landmark\u001b[38;5;241m.\u001b[39mparts()] \u001b[38;5;28;01mfor\u001b[39;00m landmark \u001b[38;5;129;01min\u001b[39;00m landmarks]\n\u001b[1;32m    180\u001b[0m     \u001b[38;5;66;03m# For a definition of each point index, see https://cdn-images-1.medium.com/max/1600/1*AbEg31EgkbXSQehuNJBlWg.png\u001b[39;00m\n",
      "File \u001b[0;32m/usr/local/lib/python3.8/site-packages/face_recognition/api.py:156\u001b[0m, in \u001b[0;36m_raw_face_landmarks\u001b[0;34m(face_image, face_locations, model)\u001b[0m\n\u001b[1;32m    154\u001b[0m \u001b[38;5;28;01mdef\u001b[39;00m \u001b[38;5;21m_raw_face_landmarks\u001b[39m(face_image, face_locations\u001b[38;5;241m=\u001b[39m\u001b[38;5;28;01mNone\u001b[39;00m, model\u001b[38;5;241m=\u001b[39m\u001b[38;5;124m\"\u001b[39m\u001b[38;5;124mlarge\u001b[39m\u001b[38;5;124m\"\u001b[39m):\n\u001b[1;32m    155\u001b[0m     \u001b[38;5;28;01mif\u001b[39;00m face_locations \u001b[38;5;129;01mis\u001b[39;00m \u001b[38;5;28;01mNone\u001b[39;00m:\n\u001b[0;32m--> 156\u001b[0m         face_locations \u001b[38;5;241m=\u001b[39m \u001b[43m_raw_face_locations\u001b[49m\u001b[43m(\u001b[49m\u001b[43mface_image\u001b[49m\u001b[43m)\u001b[49m\n\u001b[1;32m    157\u001b[0m     \u001b[38;5;28;01melse\u001b[39;00m:\n\u001b[1;32m    158\u001b[0m         face_locations \u001b[38;5;241m=\u001b[39m [_css_to_rect(face_location) \u001b[38;5;28;01mfor\u001b[39;00m face_location \u001b[38;5;129;01min\u001b[39;00m face_locations]\n",
      "File \u001b[0;32m/usr/local/lib/python3.8/site-packages/face_recognition/api.py:105\u001b[0m, in \u001b[0;36m_raw_face_locations\u001b[0;34m(img, number_of_times_to_upsample, model)\u001b[0m\n\u001b[1;32m    103\u001b[0m     \u001b[38;5;28;01mreturn\u001b[39;00m cnn_face_detector(img, number_of_times_to_upsample)\n\u001b[1;32m    104\u001b[0m \u001b[38;5;28;01melse\u001b[39;00m:\n\u001b[0;32m--> 105\u001b[0m     \u001b[38;5;28;01mreturn\u001b[39;00m \u001b[43mface_detector\u001b[49m\u001b[43m(\u001b[49m\u001b[43mimg\u001b[49m\u001b[43m,\u001b[49m\u001b[43m \u001b[49m\u001b[43mnumber_of_times_to_upsample\u001b[49m\u001b[43m)\u001b[49m\n",
      "\u001b[0;31mKeyboardInterrupt\u001b[0m: "
     ]
    }
   ],
   "source": [
    "while True:\n",
    "    # Grab a single frame of video\n",
    "    ret, frame = cap.read()\n",
    "\n",
    "    face_landmarks = face_recognition.face_landmarks(frame)\n",
    "    \n",
    "    try:\n",
    "        p1=face_landmarks[0]['top_lip']\n",
    "        p2=face_landmarks[0]['bottom_lip']\n",
    "        x1,y1=p1[9]\n",
    "        x3,y3=p1[8]\n",
    "        x4,y4=p1[10]\n",
    "        x2,y2=p2[9]\n",
    "        x5,y5=p2[8]\n",
    "        x6,y6=p2[10]\n",
    "        \n",
    "        mouth_pts += [[p1[8], p1[9], p1[10], \n",
    "                       p2[8], p2[9], p2[10]]]\n",
    "        \n",
    "        dist = np.sqrt(((x2+x5+x6) - (x1+x3+x4)) ** 2 + ((y2+y5+y6) - (y1+y3+y4)) ** 2)\n",
    "        image = cv2.circle(frame, p1[8], 1, (255, 255, 255, 0), 2)\n",
    "        image = cv2.circle(frame, p1[9], 1, (255, 255, 255, 0), 2)\n",
    "        image = cv2.circle(frame, p1[10], 1, (255, 255, 255, 0), 2)\n",
    "\n",
    "        image = cv2.circle(frame, p2[8], 1, (255, 255, 255, 0), 2)\n",
    "        image = cv2.circle(frame, p2[9], 1, (255, 255, 255, 0), 2)\n",
    "        image = cv2.circle(frame, p2[10], 1, (255, 255, 255, 0), 2)\n",
    "        # # cv2.clipLine(frame, p1, p2,(255,255,255,0), thickness=2)\n",
    "        # for p1t in p1:\n",
    "        #     image = cv2.circle(frame, p1t, 1, (255,255,255,0), 2)\n",
    "        # for p1b in p2:\n",
    "        #     image = cv2.circle(frame, p1b, 1, (255, 255, 255, 0), 2)\n",
    "\n",
    "        cv2.namedWindow('Video', cv2.WINDOW_NORMAL)\n",
    "        cv2.imshow('Video', frame)\n",
    "    except Exception as e:\n",
    "        cap.release()\n",
    "        cv2.destroyAllWindows()\n",
    "        raise(e)\n",
    "\n",
    "    # Hit 'q' on the keyboard to quit!\n",
    "    if cv2.waitKey(1) & 0xFF == ord('q'):\n",
    "        break\n",
    "\n",
    "\n",
    "\n",
    "# video_capture.release()\n",
    "# cv2.destroyAllWindows()"
   ]
  },
  {
   "cell_type": "code",
   "execution_count": 85,
   "metadata": {},
   "outputs": [],
   "source": [
    "import numpy as np"
   ]
  },
  {
   "cell_type": "code",
   "execution_count": 86,
   "metadata": {},
   "outputs": [],
   "source": [
    "mouth_pts = np.array(mouth_pts)"
   ]
  },
  {
   "cell_type": "code",
   "execution_count": 47,
   "metadata": {},
   "outputs": [],
   "source": [
    "def sum_tri_volume(pts):\n",
    "    cent = pts.mean(axis=0)\n",
    "    \n",
    "    s = 0\n",
    "    for i in range(len(pts)):\n",
    "        a = np.linalg.norm(pts[i] - pts[i - 1])\n",
    "        b = np.linalg.norm(pts[i] - cent)\n",
    "        c = np.linalg.norm(pts[i - 1] - cent)\n",
    "                \n",
    "        p = (a + b + c) / 2\n",
    "        s += np.sqrt(p * (p - a) * (p - b) * (p - c))\n",
    "    \n",
    "    return s\n",
    "\n",
    "def volume(pts, method=\"sum_tri\"):\n",
    "    return eval(method + \"_volume\")(pts)"
   ]
  },
  {
   "cell_type": "code",
   "execution_count": 98,
   "metadata": {},
   "outputs": [
    {
     "data": {
      "text/plain": [
       "16748.235199479204"
      ]
     },
     "execution_count": 98,
     "metadata": {},
     "output_type": "execute_result"
    }
   ],
   "source": [
    "volume(mouth_pts)"
   ]
  },
  {
   "cell_type": "code",
   "execution_count": 92,
   "metadata": {},
   "outputs": [
    {
     "data": {
      "image/png": "[encoded data removed]",
      "text/plain": [
       "<Figure size 640x480 with 1 Axes>"
      ]
     },
     "metadata": {},
     "output_type": "display_data"
    }
   ],
   "source": [
    "import matplotlib.pyplot as plt\n",
    "\n",
    "\n",
    "plt.plot([volume(m) for m in mouth_pts])\n",
    "plt.show()\n"
   ]
  },
  {
   "cell_type": "markdown",
   "metadata": {},
   "source": [
    " "
   ]
  },
  {
   "cell_type": "markdown",
   "metadata": {},
   "source": [
    " "
   ]
  },
  {
   "cell_type": "markdown",
   "metadata": {},
   "source": [
    " "
   ]
  },
  {
   "cell_type": "markdown",
   "metadata": {},
   "source": [
    " "
   ]
  },
  {
   "cell_type": "markdown",
   "metadata": {},
   "source": [
    " "
   ]
  },
  {
   "cell_type": "markdown",
   "metadata": {},
   "source": [
    "# Synchronization"
   ]
  },
  {
   "cell_type": "code",
   "execution_count": null,
   "metadata": {},
   "outputs": [],
   "source": []
  },
  {
   "cell_type": "code",
   "execution_count": null,
   "metadata": {},
   "outputs": [],
   "source": []
  },
  {
   "cell_type": "code",
   "execution_count": null,
   "metadata": {},
   "outputs": [],
   "source": []
  },
  {
   "cell_type": "code",
   "execution_count": null,
   "metadata": {},
   "outputs": [],
   "source": []
  },
  {
   "cell_type": "code",
   "execution_count": null,
   "metadata": {},
   "outputs": [],
   "source": []
  },
  {
   "cell_type": "code",
   "execution_count": null,
   "metadata": {},
   "outputs": [],
   "source": []
  },
  {
   "cell_type": "code",
   "execution_count": null,
   "metadata": {},
   "outputs": [],
   "source": []
  },
  {
   "cell_type": "code",
   "execution_count": null,
   "metadata": {},
   "outputs": [],
   "source": []
  },
  {
   "cell_type": "code",
   "execution_count": null,
   "metadata": {},
   "outputs": [],
   "source": []
  },
  {
   "cell_type": "code",
   "execution_count": null,
   "metadata": {},
   "outputs": [],
   "source": []
  },
  {
   "cell_type": "code",
   "execution_count": null,
   "metadata": {},
   "outputs": [],
   "source": []
  },
  {
   "cell_type": "code",
   "execution_count": null,
   "metadata": {},
   "outputs": [],
   "source": []
  },
  {
   "cell_type": "code",
   "execution_count": null,
   "metadata": {},
   "outputs": [],
   "source": []
  },
  {
   "cell_type": "code",
   "execution_count": null,
   "metadata": {},
   "outputs": [],
   "source": []
  },
  {
   "cell_type": "code",
   "execution_count": null,
   "metadata": {},
   "outputs": [],
   "source": []
  },
  {
   "cell_type": "code",
   "execution_count": null,
   "metadata": {},
   "outputs": [],
   "source": []
  },
  {
   "cell_type": "code",
   "execution_count": null,
   "metadata": {},
   "outputs": [],
   "source": []
  },
  {
   "cell_type": "code",
   "execution_count": null,
   "metadata": {},
   "outputs": [],
   "source": []
  },
  {
   "cell_type": "markdown",
   "metadata": {},
   "source": [
    "# SANDBOX"
   ]
  },
  {
   "cell_type": "code",
   "execution_count": 4,
   "metadata": {},
   "outputs": [
    {
     "data": {
      "text/plain": [
       "< cv2.dnn.Model 0x11ecc1e70>"
      ]
     },
     "execution_count": 4,
     "metadata": {},
     "output_type": "execute_result"
    }
   ],
   "source": [
    "dir_path = \"/Users/andreyignatov/Downloads/Object-Detection-main/\"\n",
    "\n",
    "class_file = \"coco.names\"\n",
    "with open(dir_path + class_file, \"rt\") as f:\n",
    "    class_names = f.read().rstrip(\"\\n\").split(\"\\n\")\n",
    "    \n",
    "config_file = \"ssd_mobilenet_v3_large_coco_2020_01_14.pbtxt\"\n",
    "weights_file = \"frozen_inference_graph.pb\"\n",
    "\n",
    "net = cv2.dnn_DetectionModel(dir_path + weights_file, \n",
    "                             dir_path + config_file)\n",
    "net.setInputSize(320, 320)\n",
    "net.setInputScale(1.0 / 127.5)\n",
    "net.setInputMean((127.5, 127.5, 127.5))\n",
    "net.setInputSwapRB(True)"
   ]
  },
  {
   "cell_type": "code",
   "execution_count": 2,
   "metadata": {},
   "outputs": [],
   "source": []
  },
  {
   "cell_type": "code",
   "execution_count": 5,
   "metadata": {},
   "outputs": [
    {
     "ename": "KeyboardInterrupt",
     "evalue": "",
     "output_type": "error",
     "traceback": [
      "\u001b[0;31m---------------------------------------------------------------------------\u001b[0m",
      "\u001b[0;31mKeyboardInterrupt\u001b[0m                         Traceback (most recent call last)",
      "Input \u001b[0;32mIn [5]\u001b[0m, in \u001b[0;36m<cell line: 2>\u001b[0;34m()\u001b[0m\n\u001b[1;32m      5\u001b[0m     \u001b[38;5;28;01mcontinue\u001b[39;00m\n\u001b[1;32m      6\u001b[0m \u001b[38;5;28;01melse\u001b[39;00m:\n\u001b[0;32m----> 7\u001b[0m     class_ids, confs, bbox \u001b[38;5;241m=\u001b[39m \u001b[43mnet\u001b[49m\u001b[38;5;241;43m.\u001b[39;49m\u001b[43mdetect\u001b[49m\u001b[43m(\u001b[49m\u001b[43mimg\u001b[49m\u001b[43m,\u001b[49m\u001b[43m \u001b[49m\u001b[43mconfThreshold\u001b[49m\u001b[38;5;241;43m=\u001b[39;49m\u001b[38;5;241;43m0.5\u001b[39;49m\u001b[43m)\u001b[49m\n\u001b[1;32m      9\u001b[0m \u001b[38;5;28;01mif\u001b[39;00m \u001b[38;5;28mlen\u001b[39m(class_ids) \u001b[38;5;241m>\u001b[39m \u001b[38;5;241m0\u001b[39m:\n\u001b[1;32m     10\u001b[0m     \u001b[38;5;28;01mfor\u001b[39;00m class_id, conf, box \u001b[38;5;129;01min\u001b[39;00m \u001b[38;5;28mzip\u001b[39m(class_ids\u001b[38;5;241m.\u001b[39mflatten(), \n\u001b[1;32m     11\u001b[0m                                    confs\u001b[38;5;241m.\u001b[39mflatten(), \n\u001b[1;32m     12\u001b[0m                                    bbox):\n",
      "\u001b[0;31mKeyboardInterrupt\u001b[0m: "
     ]
    }
   ],
   "source": [
    "while True:\n",
    "    success, img = cap.read()\n",
    "    if img is None:\n",
    "        print(\"Check video in\")\n",
    "        continue\n",
    "    else:\n",
    "        class_ids, confs, bbox = net.detect(img, confThreshold=0.5)\n",
    "        \n",
    "    if len(class_ids) > 0:\n",
    "        for class_id, conf, box in zip(class_ids.flatten(), \n",
    "                                       confs.flatten(), \n",
    "                                       bbox):\n",
    "            label = class_names[class_id - 1].upper()\n",
    "            confidence = round(conf * 100, 2)\n",
    "            if label == \"PERSON\" and confidence > 60:\n",
    "                cv2.rectangle(img, box, color=(0, 255, 0), thickness=2)\n",
    "                cv2.putText(img, label, \n",
    "                            (box[0] + 10, \n",
    "                             box[1] + 30), \n",
    "                            cv2.FONT_HERSHEY_COMPLEX, 1, (0, 255, 0), 2)\n",
    "    cv2.imshow(\"Out\", img)\n",
    "    cv2.waitKey(1)"
   ]
  },
  {
   "cell_type": "code",
   "execution_count": null,
   "metadata": {},
   "outputs": [],
   "source": []
  },
  {
   "cell_type": "code",
   "execution_count": null,
   "metadata": {},
   "outputs": [],
   "source": []
  },
  {
   "cell_type": "code",
   "execution_count": null,
   "metadata": {},
   "outputs": [],
   "source": []
  }
 ],
 "metadata": {
  "kernelspec": {
   "display_name": "Python 3",
   "language": "python",
   "name": "python3"
  },
  "language_info": {
   "codemirror_mode": {
    "name": "ipython",
    "version": 3
   },
   "file_extension": ".py",
   "mimetype": "text/x-python",
   "name": "python",
   "nbconvert_exporter": "python",
   "pygments_lexer": "ipython3",
   "version": "3.8.17"
  }
 },
 "nbformat": 4,
 "nbformat_minor": 4
}
